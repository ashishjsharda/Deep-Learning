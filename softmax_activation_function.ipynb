{
  "nbformat": 4,
  "nbformat_minor": 0,
  "metadata": {
    "colab": {
      "provenance": []
    },
    "kernelspec": {
      "name": "python3",
      "display_name": "Python 3"
    },
    "language_info": {
      "name": "python"
    }
  },
  "cells": [
    {
      "cell_type": "code",
      "execution_count": 1,
      "metadata": {
        "colab": {
          "base_uri": "https://localhost:8080/"
        },
        "id": "--Yl0EGFt7Mv",
        "outputId": "81fe5282-e279-49cb-b8a8-17bfbb11bf1e"
      },
      "outputs": [
        {
          "output_type": "stream",
          "name": "stdout",
          "text": [
            "tensor([0.0321, 0.0871, 0.2369, 0.6439])\n"
          ]
        }
      ],
      "source": [
        "import torch\n",
        "import torch.nn as nn\n",
        "\n",
        "x=torch.tensor([1.0,2.0,3.0,4.0])\n",
        "softmax=nn.Softmax(dim=0)\n",
        "output=softmax(x)\n",
        "print(output)"
      ]
    }
  ]
}