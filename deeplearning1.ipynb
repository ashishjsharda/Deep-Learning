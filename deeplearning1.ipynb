{
  "nbformat": 4,
  "nbformat_minor": 0,
  "metadata": {
    "colab": {
      "provenance": []
    },
    "kernelspec": {
      "name": "python3",
      "display_name": "Python 3"
    },
    "language_info": {
      "name": "python"
    }
  },
  "cells": [
    {
      "cell_type": "code",
      "execution_count": 2,
      "metadata": {
        "colab": {
          "base_uri": "https://localhost:8080/"
        },
        "id": "lNsmY4R1H7pz",
        "outputId": "fddba3d7-212b-4ced-a71e-450c58e22fbd"
      },
      "outputs": [
        {
          "output_type": "stream",
          "name": "stdout",
          "text": [
            "tensor([1., 0., 3., 0., 4., 0.])\n"
          ]
        }
      ],
      "source": [
        "import torch\n",
        "import torch.nn as nn\n",
        "\n",
        "# defining relu\n",
        "r = nn.ReLU()\n",
        "\n",
        "# Creating a Tensor with an array\n",
        "input = torch.Tensor([1, -2, 3, -5, 4, -6])\n",
        "\n",
        "# Passing the array to relu function\n",
        "output = r(input)\n",
        "\n",
        "print(output)\n"
      ]
    }
  ]
}