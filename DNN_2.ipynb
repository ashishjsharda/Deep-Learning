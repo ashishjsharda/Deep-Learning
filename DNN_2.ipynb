{
  "nbformat": 4,
  "nbformat_minor": 0,
  "metadata": {
    "colab": {
      "provenance": []
    },
    "kernelspec": {
      "name": "python3",
      "display_name": "Python 3"
    },
    "language_info": {
      "name": "python"
    }
  },
  "cells": [
    {
      "cell_type": "code",
      "execution_count": 1,
      "metadata": {
        "colab": {
          "base_uri": "https://localhost:8080/"
        },
        "id": "bPzzhNqqqsr3",
        "outputId": "d3d0f553-f8d6-4eb8-fe4b-754723262306"
      },
      "outputs": [
        {
          "output_type": "stream",
          "name": "stdout",
          "text": [
            "Epoch 2/10, Loss: 0.7516125440597534\n",
            "Epoch 4/10, Loss: 0.7507286667823792\n",
            "Epoch 6/10, Loss: 0.7498619556427002\n",
            "Epoch 8/10, Loss: 0.7490112781524658\n",
            "Epoch 10/10, Loss: 0.7481651306152344\n"
          ]
        }
      ],
      "source": [
        "import torch\n",
        "import torch.nn as nn\n",
        "import torch.optim as optim\n",
        "\n",
        "# Define the neural network model\n",
        "class Net(nn.Module):\n",
        "    def __init__(self):\n",
        "        super(Net, self).__init__()\n",
        "        self.fc1 = nn.Linear(10, 5)  # Fully connected layer\n",
        "        self.fc2 = nn.Linear(5, 2)   # Fully connected layer\n",
        "\n",
        "    def forward(self, x):\n",
        "        x = torch.relu(self.fc1(x))  # Apply ReLU activation function\n",
        "        x = self.fc2(x)\n",
        "        return x\n",
        "\n",
        "# Create an instance of the neural network\n",
        "net = Net()\n",
        "\n",
        "# Define the loss function and optimizer\n",
        "criterion = nn.CrossEntropyLoss()\n",
        "optimizer = optim.SGD(net.parameters(), lr=0.01)\n",
        "\n",
        "# Generate some random input and target data\n",
        "input_data = torch.randn(100, 10)\n",
        "target_data = torch.randint(0, 2, (100,))\n",
        "\n",
        "# Training loop\n",
        "for epoch in range(10):\n",
        "    optimizer.zero_grad()   # Zero the gradients\n",
        "\n",
        "    # Forward pass\n",
        "    output = net(input_data)\n",
        "    loss = criterion(output, target_data)\n",
        "\n",
        "    # Backward pass and optimization\n",
        "    loss.backward()\n",
        "    optimizer.step()\n",
        "\n",
        "    # Print the loss every few epochs\n",
        "    if (epoch+1) % 2 == 0:\n",
        "        print(f\"Epoch {epoch+1}/{10}, Loss: {loss.item()}\")\n",
        "\n",
        "# Make predictions on new data\n",
        "test_data = torch.randn(10, 10)\n",
        "predictions = net(test_data)\n"
      ]
    }
  ]
}