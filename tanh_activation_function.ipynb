{
  "nbformat": 4,
  "nbformat_minor": 0,
  "metadata": {
    "colab": {
      "provenance": []
    },
    "kernelspec": {
      "name": "python3",
      "display_name": "Python 3"
    },
    "language_info": {
      "name": "python"
    }
  },
  "cells": [
    {
      "cell_type": "code",
      "execution_count": 3,
      "metadata": {
        "colab": {
          "base_uri": "https://localhost:8080/"
        },
        "id": "--Yl0EGFt7Mv",
        "outputId": "67a1d047-c3b0-482b-ee27-b748eb9832ef"
      },
      "outputs": [
        {
          "output_type": "stream",
          "name": "stdout",
          "text": [
            "Original Data \n",
            " tensor([ 1.3462, -1.3681, -0.2339,  0.0786,  1.3825])\n",
            "\n",
            " After applying tanh activation function tensor([ 0.8732, -0.8783, -0.2297,  0.0784,  0.8815])\n"
          ]
        }
      ],
      "source": [
        "import torch\n",
        "import torch.nn as nn\n",
        "data=torch.randn(5)\n",
        "tanh=nn.Tanh()\n",
        "output=tanh(data)\n",
        "print(\"Original Data \\n\",data)\n",
        "print(\"\\n After applying tanh activation function\",output)\n"
      ]
    }
  ]
}