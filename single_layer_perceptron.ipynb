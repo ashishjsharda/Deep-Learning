{
  "nbformat": 4,
  "nbformat_minor": 0,
  "metadata": {
    "colab": {
      "provenance": []
    },
    "kernelspec": {
      "name": "python3",
      "display_name": "Python 3"
    },
    "language_info": {
      "name": "python"
    }
  },
  "cells": [
    {
      "cell_type": "code",
      "execution_count": 4,
      "metadata": {
        "colab": {
          "base_uri": "https://localhost:8080/"
        },
        "id": "vjAsuft29bhZ",
        "outputId": "9276c221-af70-4296-9193-14ac3949c4c4"
      },
      "outputs": [
        {
          "output_type": "stream",
          "name": "stdout",
          "text": [
            "1/1 [==============================] - 0s 197ms/step - loss: 0.7028 - accuracy: 0.5000\n",
            "Loss: 0.7028250694274902, Accuracy: 0.5\n",
            "1/1 [==============================] - 0s 73ms/step\n",
            "Predictions \n",
            " [[0.39386228]\n",
            " [0.47214884]\n",
            " [0.5041725 ]\n",
            " [0.5832857 ]]\n"
          ]
        }
      ],
      "source": [
        "import tensorflow as tf\n",
        "import numpy as np\n",
        "\n",
        "#Training Data\n",
        "X=np.array([[0,0],[0,1],[1,0],[1,1]],dtype=float)\n",
        "Y=np.array([[0],[1],[1],[0]],dtype=float)\n",
        "\n",
        "#Model\n",
        "model=tf.keras.Sequential(\n",
        "    [tf.keras.layers.Dense(units=1,input_shape=[2],activation='sigmoid')]\n",
        ")\n",
        "\n",
        "#Compile the model with sgd optimizer and momentum\n",
        "optimizer = tf.keras.optimizers.SGD(learning_rate=0.01, momentum=0.9)\n",
        "\n",
        "model.compile(optimizer='sgd',loss='binary_crossentropy',metrics=['accuracy'])\n",
        "\n",
        "#Train the model\n",
        "model.fit(X,Y,epochs=1000,verbose=0)\n",
        "\n",
        "#Evaluate the model\n",
        "loss,accuracy=model.evaluate(X,Y)\n",
        "print(f'Loss: {loss}, Accuracy: {accuracy}')\n",
        "\n",
        "#Predictions\n",
        "predictions =model.predict(X)\n",
        "print(\"Predictions \\n\",predictions)\n",
        "\n"
      ]
    }
  ]
}