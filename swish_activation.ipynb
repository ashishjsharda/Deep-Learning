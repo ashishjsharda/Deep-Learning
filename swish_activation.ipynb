{
  "nbformat": 4,
  "nbformat_minor": 0,
  "metadata": {
    "colab": {
      "provenance": []
    },
    "kernelspec": {
      "name": "python3",
      "display_name": "Python 3"
    },
    "language_info": {
      "name": "python"
    }
  },
  "cells": [
    {
      "cell_type": "code",
      "execution_count": 1,
      "metadata": {
        "id": "zNcbtlX2Gjjk"
      },
      "outputs": [],
      "source": [
        "import torch"
      ]
    },
    {
      "cell_type": "code",
      "source": [
        "class Swish(torch.nn.Module):\n",
        "  def __init__(self) :\n",
        "    super(Swish,self).__init__()\n",
        "  def forward(self,x):\n",
        "    return x*torch.sigmoid(x)\n",
        "\n",
        "swish_activation=Swish()\n",
        "input_tensor=torch.randn(1,25)\n",
        "output_tensor=swish_activation(input_tensor)\n",
        "print(output_tensor)"
      ],
      "metadata": {
        "colab": {
          "base_uri": "https://localhost:8080/"
        },
        "id": "cJTRF7WkGoH2",
        "outputId": "169421d8-f735-4129-d5ba-92dfd75513d3"
      },
      "execution_count": 2,
      "outputs": [
        {
          "output_type": "stream",
          "name": "stdout",
          "text": [
            "tensor([[-1.1483e-01, -5.6017e-04,  1.2407e-01,  1.5860e+00, -2.0674e-01,\n",
            "         -2.3783e-01, -8.7641e-02,  1.2892e+00,  6.4000e-01,  1.0448e+00,\n",
            "         -2.5804e-01, -2.7689e-01,  1.8558e-01,  2.1171e-01,  1.7267e+00,\n",
            "          2.2687e-01, -1.2782e-01,  3.9370e-01,  6.5598e-01,  2.0723e+00,\n",
            "          1.2524e+00, -2.7498e-01, -2.4858e-01,  1.7910e+00,  7.9706e-01]])\n"
          ]
        }
      ]
    }
  ]
}