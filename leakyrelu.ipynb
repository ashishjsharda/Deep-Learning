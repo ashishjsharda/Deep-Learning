{
  "nbformat": 4,
  "nbformat_minor": 0,
  "metadata": {
    "colab": {
      "provenance": []
    },
    "kernelspec": {
      "name": "python3",
      "display_name": "Python 3"
    },
    "language_info": {
      "name": "python"
    }
  },
  "cells": [
    {
      "cell_type": "code",
      "execution_count": 2,
      "metadata": {
        "colab": {
          "base_uri": "https://localhost:8080/"
        },
        "id": "-9w3JBvWPOcs",
        "outputId": "43125acc-c51c-45df-8375-89ed795d02c1"
      },
      "outputs": [
        {
          "output_type": "stream",
          "name": "stdout",
          "text": [
            "[-0.01  0.    1.    2.    3.  ]\n"
          ]
        }
      ],
      "source": [
        "import numpy as np\n",
        "def leaky_relu(x,alpha=0.01):\n",
        "  return np.maximum(alpha*x,x)\n",
        "\n",
        "x=np.array([-1,0,1,2,3])\n",
        "print(leaky_relu(x))"
      ]
    }
  ]
}